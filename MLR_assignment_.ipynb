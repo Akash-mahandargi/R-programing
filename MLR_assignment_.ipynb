{
  "nbformat": 4,
  "nbformat_minor": 0,
  "metadata": {
    "colab": {
      "provenance": []
    },
    "kernelspec": {
      "name": "python3",
      "display_name": "Python 3"
    },
    "language_info": {
      "name": "python"
    }
  },
  "cells": [
    {
      "cell_type": "code",
      "source": [
        "#MLR ASSIGNMENT\n",
        "\n",
        "import numpy as np\n",
        "import matplotlib.pyplot as plt\n",
        "import seaborn as sns\n",
        "\n",
        "from sklearn.model_selection import train_test_split\n",
        "from sklearn.linear_model import LinearRegression, Lasso, Ridge\n",
        "from sklearn.metrics import mean_squared_error, r2_score\n",
        "from sklearn.preprocessing import StandardScaler\n",
        "\n",
        "# Load dataset\n",
        "df = pd.read_csv(\"/content/ToyotaCorolla - MLR.csv\")\n",
        "\n",
        "# Rename and retain relevant columns\n",
        "df.rename(columns={\n",
        "    'Age_08_04': 'Age',\n",
        "    'cc': 'CC'\n",
        "}, inplace=True)\n",
        "\n",
        "df = df[['Price', 'Age', 'KM', 'Fuel_Type', 'HP', 'Automatic', 'CC', 'Doors', 'Weight']]\n",
        "\n",
        "# One-hot encode Fuel_Type\n",
        "df = pd.get_dummies(df, columns=['Fuel_Type'], drop_first=True)\n",
        "\n",
        "# Define features and target\n",
        "X = df.drop('Price', axis=1)\n",
        "y = df['Price']\n",
        "\n",
        "# Feature scaling\n",
        "scaler = StandardScaler()\n",
        "X_scaled = scaler.fit_transform(X)\n",
        "\n",
        "# Split the dataset (80% train, 20% test)\n",
        "X_train, X_test, y_train, y_test = train_test_split(X_scaled, y, test_size=0.2, random_state=42)\n",
        "\n",
        "# ----------------------- Model 1: Linear Regression -----------------------\n",
        "model1 = LinearRegression()\n",
        "model1.fit(X_train, y_train)\n",
        "y_pred1 = model1.predict(X_test)\n",
        "\n",
        "# ----------------------- Model 2: Linear Regression (without KM) ---------\n",
        "X_reduced = df.drop(columns=['Price', 'KM'])\n",
        "X_reduced_scaled = scaler.fit_transform(X_reduced)\n",
        "X2_train, X2_test, y2_train, y2_test = train_test_split(X_reduced_scaled, y, test_size=0.2, random_state=42)\n",
        "\n",
        "model2 = LinearRegression()\n",
        "model2.fit(X2_train, y2_train)\n",
        "y_pred2 = model2.predict(X2_test)\n",
        "\n",
        "# ----------------------- Model 3: Polynomial Features ---------------------\n",
        "from sklearn.preprocessing import PolynomialFeatures\n",
        "poly = PolynomialFeatures(degree=2, include_bias=False)\n",
        "X_poly = poly.fit_transform(X_scaled)\n",
        "X3_train, X3_test, y3_train, y3_test = train_test_split(X_poly, y, test_size=0.2, random_state=42)\n",
        "\n",
        "model3 = LinearRegression()\n",
        "model3.fit(X3_train, y3_train)\n",
        "y_pred3 = model3.predict(X3_test)\n",
        "\n",
        "# ------------------------ Lasso & Ridge Regression ------------------------\n",
        "lasso = Lasso(alpha=1.0)\n",
        "lasso.fit(X_train, y_train)\n",
        "y_lasso = lasso.predict(X_test)\n",
        "\n",
        "ridge = Ridge(alpha=1.0)\n",
        "ridge.fit(X_train, y_train)\n",
        "y_ridge = ridge.predict(X_test)\n",
        "\n",
        "# ------------------------ Evaluation Function ------------------------\n",
        "def evaluate_model(y_true, y_pred, name):\n",
        "    mse = mean_squared_error(y_true, y_pred)\n",
        "    r2 = r2_score(y_true, y_pred)\n",
        "    print(f\"{name}:\\n  MSE = {mse:.2f}\\n  R2 Score = {r2:.2f}\\n\")\n",
        "\n",
        "# ------------------------ Evaluation Results ------------------------\n",
        "evaluate_model(y_test, y_pred1, \"Model 1: Basic Linear Regression\")\n",
        "evaluate_model(y2_test, y_pred2, \"Model 2: Linear Regression (No KM)\")\n",
        "evaluate_model(y3_test, y_pred3, \"Model 3: Polynomial Regression\")\n",
        "evaluate_model(y_test, y_lasso, \"Lasso Regression\")\n",
        "evaluate_model(y_test, y_ridge, \"Ridge Regression\")\n",
        "\n"
      ],
      "metadata": {
        "colab": {
          "base_uri": "https://localhost:8080/"
        },
        "id": "FPLF-NVepwMI",
        "outputId": "4b5a0b5e-4035-4216-bfdb-9a1af3687217"
      },
      "execution_count": null,
      "outputs": [
        {
          "output_type": "stream",
          "name": "stdout",
          "text": [
            "Model 1: Basic Linear Regression:\n",
            "  MSE = 2224306.04\n",
            "  R2 Score = 0.83\n",
            "\n",
            "Model 2: Linear Regression (No KM):\n",
            "  MSE = 2574027.83\n",
            "  R2 Score = 0.81\n",
            "\n",
            "Model 3: Polynomial Regression:\n",
            "  MSE = 2994690.37\n",
            "  R2 Score = 0.78\n",
            "\n",
            "Lasso Regression:\n",
            "  MSE = 2221942.42\n",
            "  R2 Score = 0.83\n",
            "\n",
            "Ridge Regression:\n",
            "  MSE = 2221963.62\n",
            "  R2 Score = 0.83\n",
            "\n"
          ]
        }
      ]
    },
    {
      "cell_type": "code",
      "source": [],
      "metadata": {
        "id": "Oomm3SAWrfuz"
      },
      "execution_count": null,
      "outputs": []
    }
  ]
}