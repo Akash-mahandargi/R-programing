{
  "nbformat": 4,
  "nbformat_minor": 0,
  "metadata": {
    "colab": {
      "provenance": [],
      "authorship_tag": "ABX9TyMDyC+GP3XqmsET82t/NH6O",
      "include_colab_link": true
    },
    "kernelspec": {
      "name": "python3",
      "display_name": "Python 3"
    },
    "language_info": {
      "name": "python"
    }
  },
  "cells": [
    {
      "cell_type": "markdown",
      "metadata": {
        "id": "view-in-github",
        "colab_type": "text"
      },
      "source": [
        "<a href=\"https://colab.research.google.com/github/Akash-mahandargi/R-programing/blob/main/HYPOTHESIS_TESTING_pynb.ipynb\" target=\"_parent\"><img src=\"https://colab.research.google.com/assets/colab-badge.svg\" alt=\"Open In Colab\"/></a>"
      ]
    },
    {
      "cell_type": "code",
      "execution_count": null,
      "metadata": {
        "id": "N5nPnECWcKkb"
      },
      "outputs": [],
      "source": [
        "import math\n",
        "from scipy import stats"
      ]
    },
    {
      "cell_type": "code",
      "source": [
        "def hypothesis_test():\n",
        " print(\"Hypothesis Testing for Bombay Hospitality Ltd.\")\n",
        " print(\"==============================================\")"
      ],
      "metadata": {
        "id": "8L-XLRAQf8g7"
      },
      "execution_count": null,
      "outputs": []
    },
    {
      "cell_type": "code",
      "source": [
        "import math\n",
        "from scipy import stats\n",
        "\n",
        "def hypothesis_test():\n",
        "    print(\"Hypothesis Testing for Bombay Hospitality Ltd.\")\n",
        "    print(\"==============================================\")\n",
        "\n",
        "    # 1. State the Hypotheses\n",
        "    print(\"\\n1. Hypotheses Statement:\")\n",
        "    print(\"H0 (Null Hypothesis): μ = 1000 + 5X (The cost model is still accurate)\")\n",
        "    print(\"H1 (Alternative Hypothesis): μ > 1000 + 5X (The weekly operating costs are higher than the model suggests)\")\n",
        "\n",
        "    # 2. Calculate the Test Statistic\n",
        "    print(\"\\n2. Test Statistic Calculation:\")\n",
        "    x_bar = 3050  # sample mean weekly cost\n",
        "    X = 600  # mean number of units produced\n",
        "    mu = 1000 + 5 * X  # theoretical mean weekly cost\n",
        "    sigma = 5 * 25  # standard deviation of weekly cost\n",
        "    n = 25  # sample size\n",
        "\n",
        "    t = (x_bar - mu) / (sigma / math.sqrt(n))\n",
        "    print(f\"Test Statistic (t) = {t:.4f}\")\n",
        "\n",
        "    # 3. Determine the Critical Value\n",
        "    print(\"\\n3. Critical Value Determination:\")\n",
        "    alpha = 0.05\n",
        "    critical_value = stats.norm.ppf(1 - alpha)\n",
        "    print(f\"Critical Value (z) = {critical_value:.4f}\")\n",
        "\n",
        "    # 4. Make a Decision\n",
        "    print(\"\\n4. Decision:\")\n",
        "    if t > critical_value:\n",
        "        decision = \"Reject the null hypothesis\"\n",
        "    else:\n",
        "        decision = \"Fail to reject the null hypothesis\"\n",
        "    print(f\"Decision: {decision}\")\n",
        "\n",
        "    # 5. Conclusion\n",
        "    print(\"\\n5. Conclusion:\")\n",
        "    if decision == \"Reject the null hypothesis\":\n",
        "        print(\"There is strong evidence to support the restaurant owners' claim that the weekly operating costs are higher than the model suggests.\")\n",
        "    else:\n",
        "        print(\"There is not enough evidence to support the restaurant owners' claim that the weekly operating costs are higher than the model suggests.\")\n",
        "\n",
        "if __name__ == \"__main__\":\n",
        "    hypothesis_test()\n"
      ],
      "metadata": {
        "colab": {
          "base_uri": "https://localhost:8080/"
        },
        "id": "htjFxxJxg-0K",
        "outputId": "3430e3df-47dd-4588-81d6-a81f64fe7652"
      },
      "execution_count": null,
      "outputs": [
        {
          "output_type": "stream",
          "name": "stdout",
          "text": [
            "Hypothesis Testing for Bombay Hospitality Ltd.\n",
            "==============================================\n",
            "\n",
            "1. Hypotheses Statement:\n",
            "H0 (Null Hypothesis): μ = 1000 + 5X (The cost model is still accurate)\n",
            "H1 (Alternative Hypothesis): μ > 1000 + 5X (The weekly operating costs are higher than the model suggests)\n",
            "\n",
            "2. Test Statistic Calculation:\n",
            "Test Statistic (t) = -38.0000\n",
            "\n",
            "3. Critical Value Determination:\n",
            "Critical Value (z) = 1.6449\n",
            "\n",
            "4. Decision:\n",
            "Decision: Fail to reject the null hypothesis\n",
            "\n",
            "5. Conclusion:\n",
            "There is not enough evidence to support the restaurant owners' claim that the weekly operating costs are higher than the model suggests.\n"
          ]
        }
      ]
    }
  ]
}